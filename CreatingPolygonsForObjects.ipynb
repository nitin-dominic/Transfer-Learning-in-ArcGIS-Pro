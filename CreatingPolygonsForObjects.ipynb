{
 "cells": [
  {
   "cell_type": "code",
   "execution_count": 1,
   "metadata": {},
   "outputs": [
    {
     "data": {
      "text/plain": [
       "'CheckedOut'"
      ]
     },
     "execution_count": 1,
     "metadata": {},
     "output_type": "execute_result"
    }
   ],
   "source": [
    "# Importing all the required packages\n",
    "import arcpy\n",
    "from arcpy.ia import *\n",
    "import os, sys\n",
    "# Check perform to see if Image Analyst is available\n",
    "arcpy.CheckOutExtension(\"ImageAnalyst\")\n",
    "# Setting processor type and parallel processing factor\n",
    "# arcpy.env.processorType = \"GPU\"\n",
    "# # Parallel Processing\n",
    "# arcpy.env.parallelProcessingFactor = \"50%\""
   ]
  },
  {
   "cell_type": "code",
   "execution_count": 2,
   "metadata": {},
   "outputs": [],
   "source": [
    "# # Applying Histogram Equalization on the loaded image\n",
    "# RGB_imagery = r\"E:\\Nitin.Rai\\ASABE2021\\Dataset\\ClippedRaster.tif\"\n",
    "# arcpy.env.workspace = RGB_imagery\n",
    "# histogram_equalization = arcpy.ia.Stretch(RGB_imagery, \"Histogram\", None, \n",
    "#                                           None, None, None, True, \n",
    "#                                           None, None, None, True, None)\n",
    "# # histogram_equalization.save(r\"D:/ArcGIS Projects/Dataset/SunflowerCorrected.tif\")\n",
    "# # print(\"Histogram Equalization has been applied on the image!\")\n",
    "# brightness_correction = arcpy.ia.ContrastBrightness(histogram_equalization, 100, 70)\n",
    "# brightness_correction.save(r\"D:/ArcGIS Projects/Dataset/Brightness_Corrected2.tif\")\n",
    "# print(\"Brightness Correction was applied successfully!\")"
   ]
  },
  {
   "cell_type": "code",
   "execution_count": 3,
   "metadata": {},
   "outputs": [],
   "source": [
    "RGB_imagery = r\"E:\\Nitin.Rai\\ASABE2021\\Dataset\\ClippedRaster.tif\"\n",
    "arcpy.env.workspace = RGB_imagery\n",
    "bands = [Raster(os.path.join(RGB_imagery, b))\n",
    "         for b in arcpy.ListRasters()]"
   ]
  },
  {
   "cell_type": "code",
   "execution_count": 4,
   "metadata": {},
   "outputs": [
    {
     "name": "stdout",
     "output_type": "stream",
     "text": [
      "You have successfully exported the Excess Green.tif file\n",
      "Excess Green pyramids successfully calculated\n"
     ]
    }
   ],
   "source": [
    "path = os.path.dirname(RGB_imagery)\n",
    "base1 = os.path.basename(RGB_imagery)\n",
    "base = os.path.splitext(base1)[0]\n",
    "ExGreen_filename = base + \"_ExcessGreen.tif\"\n",
    "total_bands = (Float(bands[0] + bands[1] + bands[2]))\n",
    "red_band = (Float(bands[0]) / total_bands)\n",
    "green_band = (Float(bands[1]) / total_bands)\n",
    "blue_band = (Float(bands[2]) / total_bands)\n",
    "ExGreen = (2 * green_band - red_band - blue_band)\n",
    "ExGreen.save(ExGreen_filename)\n",
    "arcpy.env.workspace = path\n",
    "print (\"You have successfully exported the Excess Green.tif file\")\n",
    "arcpy.BuildPyramids_management(ExGreen_filename, \"\", \"NONE\", \"BILINEAR\",\"\", \"\", \"\")\n",
    "print (\"Excess Green pyramids successfully calculated\")"
   ]
  },
  {
   "cell_type": "code",
   "execution_count": 5,
   "metadata": {},
   "outputs": [
    {
     "name": "stdout",
     "output_type": "stream",
     "text": [
      "You have successfully sharpened the Excess Green.tif file!\n"
     ]
    }
   ],
   "source": [
    "# Sharpening the image so the objects (crops & weeds) details are highlighted\n",
    "sharpen_ExGreen = arcpy.ia.Convolution(RGB_imagery, 20)\n",
    "sharpen_ExGreen.save(r\"E:\\Nitin.Rai\\ASABE2021\\Dataset\\SharpenedRaster.tif\")\n",
    "print(\"You have successfully sharpened the Excess Green.tif file!\")"
   ]
  },
  {
   "cell_type": "code",
   "execution_count": 6,
   "metadata": {},
   "outputs": [
    {
     "name": "stdout",
     "output_type": "stream",
     "text": [
      "You have successfully perfromed Imagery Thresholding!\n"
     ]
    }
   ],
   "source": [
    "binary_raster = arcpy.ia.Threshold(ExGreen)\n",
    "binary_raster.save(r\"E:\\Nitin.Rai\\ASABE2021\\Dataset\\BinaryRaster.tif\")\n",
    "print(\"You have successfully perfromed Imagery Thresholding!\")"
   ]
  },
  {
   "cell_type": "code",
   "execution_count": 7,
   "metadata": {},
   "outputs": [
    {
     "name": "stdout",
     "output_type": "stream",
     "text": [
      "You have successfully converted Raster to Polygon!\n"
     ]
    }
   ],
   "source": [
    "arcpy.env.workspace = r\"E:\\Nitin.Rai\\ASABE2021\\Dataset\"\n",
    "inRaster = \"BinaryRaster.tif\"\n",
    "outPolygons = r\"E:\\Nitin.Rai\\ASABE2021\\Dataset\\RasterToPolygon.tif\"\n",
    "field = \"VALUE\"\n",
    "arcpy.RasterToPolygon_conversion(inRaster, outPolygons, \"NO_SIMPLIFY\", field)\n",
    "print(\"You have successfully converted Raster to Polygon!\")"
   ]
  },
  {
   "cell_type": "code",
   "execution_count": 8,
   "metadata": {},
   "outputs": [
    {
     "data": {
      "text/html": [
       "<h2>Output</h2>E:\\Nitin.Rai\\ASABE2021\\Dataset\\CropPolygons.shp<h2>Messages</h2>Start Time: Saturday, March 13, 2021 12:27:48 PM<br/>Succeeded at Saturday, March 13, 2021 12:27:49 PM (Elapsed Time: 0.23 seconds)<br/><style>.rendered_html td, .rendered_html th {text-align: left;}.rendered_html tbody {border: 1px solid black;}</style>"
      ],
      "text/plain": [
       "<Result 'E:\\\\Nitin.Rai\\\\ASABE2021\\\\Dataset\\\\CropPolygons.shp'>"
      ]
     },
     "execution_count": 8,
     "metadata": {},
     "output_type": "execute_result"
    }
   ],
   "source": [
    "# Selecting all the 1s so that we can export a shapefile for all the objects labeled 1s within the imagery\n",
    "arcpy.env.workspace = r\"E:\\Nitin.Rai\\ASABE2021\\Dataset\"\n",
    "polygonAttached = \"RasterToPolygon.shp\"\n",
    "selectedAttributes = arcpy.SelectLayerByAttribute_management(polygonAttached, \"NEW_SELECTION\", '\"gridcode\" > 0')\n",
    "arcpy.CopyFeatures_management(selectedAttributes, 'CropPolygons')"
   ]
  },
  {
   "cell_type": "code",
   "execution_count": null,
   "metadata": {},
   "outputs": [],
   "source": []
  }
 ],
 "metadata": {
  "kernelspec": {
   "display_name": "Python 3",
   "language": "python",
   "name": "python3"
  },
  "language_info": {
   "codemirror_mode": {
    "name": "ipython",
    "version": 3
   },
   "file_extension": ".py",
   "mimetype": "text/x-python",
   "name": "python",
   "nbconvert_exporter": "python",
   "pygments_lexer": "ipython3",
   "version": "3.7.9"
  }
 },
 "nbformat": 4,
 "nbformat_minor": 4
}
