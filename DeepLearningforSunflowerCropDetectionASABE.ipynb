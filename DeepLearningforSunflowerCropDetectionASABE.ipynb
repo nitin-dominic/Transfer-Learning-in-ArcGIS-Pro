{
 "cells": [
  {
   "cell_type": "code",
   "execution_count": 1,
   "metadata": {},
   "outputs": [],
   "source": [
    "# Importing all the required packages\n",
    "import arcpy\n",
    "from arcpy.ia import *\n",
    "import os, sys\n",
    "from arcgis.gis import GIS\n",
    "from arcgis.learn import export_training_data\n",
    "from arcgis.learn import prepare_data\n",
    "from arcgis.learn import YOLOv3\n",
    "from arcgis.learn import FasterRCNN\n",
    "from datetime import datetime\n",
    "# Check perform to see if Image Analyst is available\n",
    "# arcpy.CheckOutExtension(\"ImageAnalyst\")"
   ]
  },
  {
   "cell_type": "code",
   "execution_count": 3,
   "metadata": {},
   "outputs": [],
   "source": [
    "# Setting processor type and parallel processing factor\n",
    "arcpy.env.processorType = \"CPU\"\n",
    "# Parallel Processing\n",
    "arcpy.env.parallelProcessingFactor = \"50%\""
   ]
  },
  {
   "cell_type": "code",
   "execution_count": 21,
   "metadata": {},
   "outputs": [],
   "source": [
    "RGB_imagery = r\"E:\\Nitin.Rai\\ASABE2021\\Dataset\\sunflower_Clip_2.tif\"\n",
    "arcpy.env.workspace = RGB_imagery\n",
    "bands = [Raster(os.path.join(RGB_imagery, b))\n",
    "         for b in arcpy.ListRasters()]"
   ]
  },
  {
   "cell_type": "code",
   "execution_count": 23,
   "metadata": {},
   "outputs": [
    {
     "name": "stdout",
     "output_type": "stream",
     "text": [
      "You have successfully exported the Excess Green.tif file\n",
      "Excess Green pyramids successfully calculated\n"
     ]
    }
   ],
   "source": [
    "path = os.path.dirname(RGB_imagery)\n",
    "base1 = os.path.basename(RGB_imagery)\n",
    "base = os.path.splitext(base1)[0]\n",
    "ExGreen_filename = base + \"_ExcessGreen4.tif\"\n",
    "total_bands = (Float(bands[0] + bands[1] + bands[2]))\n",
    "red_band = (Float(bands[0]) / total_bands)\n",
    "green_band = (Float(bands[1]) / total_bands)\n",
    "blue_band = (Float(bands[2]) / total_bands)\n",
    "ExGreen = (2 * green_band - red_band - blue_band)\n",
    "ExGreen.save(ExGreen_filename)\n",
    "arcpy.env.workspace = path\n",
    "print (\"You have successfully exported the Excess Green.tif file\")\n",
    "arcpy.BuildPyramids_management(ExGreen_filename, \"\", \"NONE\", \"BILINEAR\",\"\", \"\", \"\")\n",
    "print (\"Excess Green pyramids successfully calculated\")"
   ]
  },
  {
   "cell_type": "code",
   "execution_count": 24,
   "metadata": {},
   "outputs": [
    {
     "name": "stdout",
     "output_type": "stream",
     "text": [
      "You have successfully sharpened the Excess Green.tif file!\n"
     ]
    }
   ],
   "source": [
    "# Sharpening the image so the objects (crops & weeds) details are highlighted\n",
    "sharpen_ExGreen = arcpy.ia.Convolution(ExGreen, 20)\n",
    "sharpen_ExGreen.save(r'E:\\Nitin.Rai\\ASABE2021\\Dataset\\ExGreen_Sharpened4.tif')\n",
    "print(\"You have successfully sharpened the Excess Green.tif file!\")"
   ]
  },
  {
   "cell_type": "code",
   "execution_count": 15,
   "metadata": {},
   "outputs": [],
   "source": [
    "# env.outputCoordinateSystem = arcpy.SpatialReference(\"WGS_1984_UTM_Zone_14N\")"
   ]
  },
  {
   "cell_type": "code",
   "execution_count": 26,
   "metadata": {},
   "outputs": [
    {
     "name": "stdout",
     "output_type": "stream",
     "text": [
      "You have successfully perfromed Imagery Thresholding!\n"
     ]
    }
   ],
   "source": [
    "binary_raster = arcpy.ia.Threshold(RGB_imagery)\n",
    "binary_raster.save(r\"E:\\Nitin.Rai\\ASABE2021\\Dataset\\ThresholdSharpen4.tif\")\n",
    "print(\"You have successfully perfromed Imagery Thresholding!\")"
   ]
  },
  {
   "cell_type": "code",
   "execution_count": 12,
   "metadata": {},
   "outputs": [
    {
     "name": "stdout",
     "output_type": "stream",
     "text": [
      "You can deactivate this warning by passing `no_check=True`.\n"
     ]
    }
   ],
   "source": [
    "# Data Preparation\n",
    "dataset_path = r\"C:\\Users\\Nitin.Rai\\Desktop\\ImageChipsPASCAL\"\n",
    "class_mapping = None\n",
    "chip_size = 448\n",
    "val_split = 0.3\n",
    "batch_size = 64\n",
    "transform = False\n",
    "dataset_type = 'KITTI_rectangles'\n",
    "prepare = prepare_data(dataset_path, class_mapping, chip_size, val_split, batch_size, transform,\n",
    "                                        dataset_type)"
   ]
  },
  {
   "cell_type": "code",
   "execution_count": 4,
   "metadata": {},
   "outputs": [],
   "source": [
    "# # crop detection using YOLOv3\n",
    "# in_folder = r'E:\\Nitin.Rai\\ASABE2021_New\\ImageChipsPASCAL'\n",
    "# out_model = r'E:\\Nitin.Rai\\ASABE2021_New\\Model_Output\\FasterRCNN'\n",
    "# epochs = 100\n",
    "# objectDetection_model = \"FASTERRCNN\"\n",
    "# batch_size = 8\n",
    "# arg = None\n",
    "# lr = 0.001\n",
    "# backbone_model = \"RESNET50\"\n",
    "# pretrained_model = None\n",
    "# validate = 30\n",
    "# stop_training = \"STOP_TRAINING\"\n",
    "# freeze = \"UNFREEZE_MODEL\"\n",
    "# TrainDeepLearningModel(in_folder, out_model, epochs, objectDetection_model, batch_size, arg, lr, backbone_model,\n",
    "#                       pretrained_model, validate, stop_training, freeze)"
   ]
  },
  {
   "cell_type": "code",
   "execution_count": 4,
   "metadata": {},
   "outputs": [
    {
     "data": {
      "text/html": [
       "\n",
       "    <div>\n",
       "        <style>\n",
       "            /* Turns off some styling */\n",
       "            progress {\n",
       "                /* gets rid of default border in Firefox and Opera. */\n",
       "                border: none;\n",
       "                /* Needs to be in here for Safari polyfill so background images work as expected. */\n",
       "                background-size: auto;\n",
       "            }\n",
       "            .progress-bar-interrupted, .progress-bar-interrupted::-webkit-progress-bar {\n",
       "                background: #F44336;\n",
       "            }\n",
       "        </style>\n",
       "      <progress value='10' class='' max='50' style='width:300px; height:20px; vertical-align: middle;'></progress>\n",
       "      20.00% [10/50 11:41:45<46:47:03]\n",
       "    </div>\n",
       "    \n",
       "<table border=\"1\" class=\"dataframe\">\n",
       "  <thead>\n",
       "    <tr style=\"text-align: left;\">\n",
       "      <th>epoch</th>\n",
       "      <th>train_loss</th>\n",
       "      <th>valid_loss</th>\n",
       "      <th>time</th>\n",
       "    </tr>\n",
       "  </thead>\n",
       "  <tbody>\n",
       "    <tr>\n",
       "      <td>0</td>\n",
       "      <td>0.497636</td>\n",
       "      <td>9.015349</td>\n",
       "      <td>1:11:39</td>\n",
       "    </tr>\n",
       "    <tr>\n",
       "      <td>1</td>\n",
       "      <td>0.336148</td>\n",
       "      <td>3.302514</td>\n",
       "      <td>1:14:48</td>\n",
       "    </tr>\n",
       "    <tr>\n",
       "      <td>2</td>\n",
       "      <td>0.302375</td>\n",
       "      <td>1.744264</td>\n",
       "      <td>1:09:13</td>\n",
       "    </tr>\n",
       "    <tr>\n",
       "      <td>3</td>\n",
       "      <td>0.271287</td>\n",
       "      <td>0.657658</td>\n",
       "      <td>1:09:35</td>\n",
       "    </tr>\n",
       "    <tr>\n",
       "      <td>4</td>\n",
       "      <td>0.275251</td>\n",
       "      <td>0.456048</td>\n",
       "      <td>1:09:34</td>\n",
       "    </tr>\n",
       "    <tr>\n",
       "      <td>5</td>\n",
       "      <td>0.271608</td>\n",
       "      <td>3.131080</td>\n",
       "      <td>1:09:35</td>\n",
       "    </tr>\n",
       "    <tr>\n",
       "      <td>6</td>\n",
       "      <td>0.284302</td>\n",
       "      <td>1.207315</td>\n",
       "      <td>1:10:03</td>\n",
       "    </tr>\n",
       "    <tr>\n",
       "      <td>7</td>\n",
       "      <td>0.267650</td>\n",
       "      <td>1.587068</td>\n",
       "      <td>1:09:15</td>\n",
       "    </tr>\n",
       "    <tr>\n",
       "      <td>8</td>\n",
       "      <td>0.311753</td>\n",
       "      <td>1.766675</td>\n",
       "      <td>1:09:11</td>\n",
       "    </tr>\n",
       "    <tr>\n",
       "      <td>9</td>\n",
       "      <td>0.343694</td>\n",
       "      <td>1.272114</td>\n",
       "      <td>1:08:49</td>\n",
       "    </tr>\n",
       "  </tbody>\n",
       "</table><p>\n",
       "\n",
       "    <div>\n",
       "        <style>\n",
       "            /* Turns off some styling */\n",
       "            progress {\n",
       "                /* gets rid of default border in Firefox and Opera. */\n",
       "                border: none;\n",
       "                /* Needs to be in here for Safari polyfill so background images work as expected. */\n",
       "                background-size: auto;\n",
       "            }\n",
       "            .progress-bar-interrupted, .progress-bar-interrupted::-webkit-progress-bar {\n",
       "                background: #F44336;\n",
       "            }\n",
       "        </style>\n",
       "      <progress value='51' class='' max='51' style='width:300px; height:20px; vertical-align: middle;'></progress>\n",
       "      100.00% [51/51 05:23<00:00]\n",
       "    </div>\n",
       "    "
      ],
      "text/plain": [
       "<IPython.core.display.HTML object>"
      ]
     },
     "metadata": {},
     "output_type": "display_data"
    },
    {
     "name": "stdout",
     "output_type": "stream",
     "text": [
      "Epoch 10: early stopping\n"
     ]
    },
    {
     "data": {
      "text/html": [
       "\n",
       "    <div>\n",
       "        <style>\n",
       "            /* Turns off some styling */\n",
       "            progress {\n",
       "                /* gets rid of default border in Firefox and Opera. */\n",
       "                border: none;\n",
       "                /* Needs to be in here for Safari polyfill so background images work as expected. */\n",
       "                background-size: auto;\n",
       "            }\n",
       "            .progress-bar-interrupted, .progress-bar-interrupted::-webkit-progress-bar {\n",
       "                background: #F44336;\n",
       "            }\n",
       "        </style>\n",
       "      <progress value='51' class='' max='51' style='width:300px; height:20px; vertical-align: middle;'></progress>\n",
       "      100.00% [51/51 05:24<00:00]\n",
       "    </div>\n",
       "    "
      ],
      "text/plain": [
       "<IPython.core.display.HTML object>"
      ]
     },
     "metadata": {},
     "output_type": "display_data"
    },
    {
     "data": {
      "text/html": [
       "\n",
       "    <div>\n",
       "        <style>\n",
       "            /* Turns off some styling */\n",
       "            progress {\n",
       "                /* gets rid of default border in Firefox and Opera. */\n",
       "                border: none;\n",
       "                /* Needs to be in here for Safari polyfill so background images work as expected. */\n",
       "                background-size: auto;\n",
       "            }\n",
       "            .progress-bar-interrupted, .progress-bar-interrupted::-webkit-progress-bar {\n",
       "                background: #F44336;\n",
       "            }\n",
       "        </style>\n",
       "      <progress value='51' class='' max='51' style='width:300px; height:20px; vertical-align: middle;'></progress>\n",
       "      100.00% [51/51 05:29<00:00]\n",
       "    </div>\n",
       "    "
      ],
      "text/plain": [
       "<IPython.core.display.HTML object>"
      ]
     },
     "metadata": {},
     "output_type": "display_data"
    },
    {
     "name": "stdout",
     "output_type": "stream",
     "text": [
      "Computing model metrics...\n"
     ]
    },
    {
     "data": {
      "text/html": [
       "\n",
       "    <div>\n",
       "        <style>\n",
       "            /* Turns off some styling */\n",
       "            progress {\n",
       "                /* gets rid of default border in Firefox and Opera. */\n",
       "                border: none;\n",
       "                /* Needs to be in here for Safari polyfill so background images work as expected. */\n",
       "                background-size: auto;\n",
       "            }\n",
       "            .progress-bar-interrupted, .progress-bar-interrupted::-webkit-progress-bar {\n",
       "                background: #F44336;\n",
       "            }\n",
       "        </style>\n",
       "      <progress value='51' class='' max='51' style='width:300px; height:20px; vertical-align: middle;'></progress>\n",
       "      100.00% [51/51 05:32<00:00]\n",
       "    </div>\n",
       "    "
      ],
      "text/plain": [
       "<IPython.core.display.HTML object>"
      ]
     },
     "metadata": {},
     "output_type": "display_data"
    },
    {
     "name": "stdout",
     "output_type": "stream",
     "text": [
      "Duration of Training the dataset was: 13:07:32.798546\n"
     ]
    }
   ],
   "source": [
    "# Training again using the previously acquired trained model on crop images\n",
    "start_time = datetime.now()\n",
    "dataset = r'E:\\Nitin.Rai\\ASABE2021\\Dataset\\ImageChips'\n",
    "output_location = r'E:\\Nitin.Rai\\SunflowerCropDetection\\ModelOutput2\\RetinaNetReTrained'\n",
    "eph = 50\n",
    "objectDetection_model = \"RETINANET\"\n",
    "batch_size = 64\n",
    "arg = \"SCALES '[1,1,0.8]'; RATIOS '[0.5,1,1.5]'; chip_size:416\"\n",
    "lr = 0.001\n",
    "backbone_model = \"RESNET50\"\n",
    "pretrained_model = None\n",
    "validate = 20\n",
    "stop_training = \"STOP_TRAINING\"\n",
    "freeze = \"UNFREEZE_MODEL\"\n",
    "TrainDeepLearningModel(dataset, output_location, eph, objectDetection_model, batch_size, arg, lr, backbone_model,\n",
    "                       pretrained_model, validate, stop_training, freeze)\n",
    "end_time = datetime.now()\n",
    "print(\"Duration of Training the dataset was: {}\" .format(end_time - start_time))"
   ]
  },
  {
   "cell_type": "code",
   "execution_count": 7,
   "metadata": {},
   "outputs": [],
   "source": [
    "# # Training the data with FasterRCNN\n",
    "# data = data_prepare\n",
    "# backbone = 'resnet50'\n",
    "# pretrained_path = r\"E:\\Nitin.Rai\\ASABE2021\\Model Outputs\\FasterRCNN\"\n",
    "# FasterRCNN(data, backbone, pretrained_path)"
   ]
  },
  {
   "cell_type": "code",
   "execution_count": 6,
   "metadata": {},
   "outputs": [],
   "source": [
    "# data_prepare.show_batch()"
   ]
  },
  {
   "cell_type": "code",
   "execution_count": 11,
   "metadata": {},
   "outputs": [
    {
     "name": "stdout",
     "output_type": "stream",
     "text": [
      "ArcGIS Online Org account\n",
      "Logged in as nitin.rai_NDUS\n"
     ]
    }
   ],
   "source": [
    "# print(\"ArcGIS Online Org account\")    \n",
    "# gis = GIS(\"https://www.arcgis.com\", \"nitin.rai_NDUS\", \"jesusfreaks5\")\n",
    "# print(\"Logged in as \" + str(gis.properties.user.username))"
   ]
  }
 ],
 "metadata": {
  "kernelspec": {
   "display_name": "Python 3",
   "language": "python",
   "name": "python3"
  },
  "language_info": {
   "codemirror_mode": {
    "name": "ipython",
    "version": 3
   },
   "file_extension": ".py",
   "mimetype": "text/x-python",
   "name": "python",
   "nbconvert_exporter": "python",
   "pygments_lexer": "ipython3",
   "version": "3.7.9"
  }
 },
 "nbformat": 4,
 "nbformat_minor": 4
}
