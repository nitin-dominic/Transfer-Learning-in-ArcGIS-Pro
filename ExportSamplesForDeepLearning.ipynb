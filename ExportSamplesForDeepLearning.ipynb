{
 "cells": [
  {
   "cell_type": "code",
   "execution_count": 1,
   "metadata": {},
   "outputs": [],
   "source": [
    "import arcpy\n",
    "from arcpy.ia import *\n",
    "from arcgis.gis import GIS\n",
    "from arcgis.learn import export_training_data\n",
    "from arcgis.learn import prepare_data\n",
    "from arcgis.learn import YOLOv3\n",
    "from arcgis.learn import FasterRCNN\n",
    "from datetime import datetime\n",
    "#gis = GIS(\"https://ndus.maps.arcgis.com/home/index.html\")"
   ]
  },
  {
   "cell_type": "code",
   "execution_count": 3,
   "metadata": {},
   "outputs": [
    {
     "data": {
      "text/plain": [
       "'CheckedOut'"
      ]
     },
     "execution_count": 3,
     "metadata": {},
     "output_type": "execute_result"
    }
   ],
   "source": [
    "# Check out extension analyst\n",
    "arcpy.CheckOutExtension(\"ImageAnalyst\")"
   ]
  },
  {
   "cell_type": "code",
   "execution_count": 15,
   "metadata": {},
   "outputs": [
    {
     "ename": "ExecuteError",
     "evalue": "Failed to execute. Parameters are not valid.\nERROR 000725: Output Folder: Dataset D:\\ArcGIS Projects\\Dataset\\OutputFolder22334455 already exists.\nERROR 000158: Invalid feature class\nFailed to execute (ExportTrainingDataForDeepLearning).\n",
     "output_type": "error",
     "traceback": [
      "\u001b[1;31m---------------------------------------------------------------------------\u001b[0m",
      "\u001b[1;31mExecuteError\u001b[0m                              Traceback (most recent call last)",
      "\u001b[1;32m<ipython-input-15-931e1784a6b6>\u001b[0m in \u001b[0;36m<module>\u001b[1;34m\u001b[0m\n\u001b[0;32m     23\u001b[0m                                                \u001b[0mclassvalue_field\u001b[0m\u001b[1;33m,\u001b[0m \u001b[0mbuffer_radius\u001b[0m\u001b[1;33m,\u001b[0m\u001b[1;33m\u001b[0m\u001b[1;33m\u001b[0m\u001b[0m\n\u001b[0;32m     24\u001b[0m                                                \u001b[0minput_mask_polygons\u001b[0m\u001b[1;33m,\u001b[0m \u001b[0mrotation_angle\u001b[0m\u001b[1;33m,\u001b[0m \u001b[0mreference_system\u001b[0m\u001b[1;33m,\u001b[0m\u001b[1;33m\u001b[0m\u001b[1;33m\u001b[0m\u001b[0m\n\u001b[1;32m---> 25\u001b[1;33m                                                processing, blacken, crop_mode)\n\u001b[0m",
      "\u001b[1;32mC:\\Program Files\\ArcGIS\\Pro\\Resources\\ArcPy\\arcpy\\ia\\Functions.py\u001b[0m in \u001b[0;36mExportTrainingDataForDeepLearning\u001b[1;34m(in_raster, out_folder, in_class_data, image_chip_format, tile_size_x, tile_size_y, stride_x, stride_y, output_nofeature_tiles, metadata_format, start_index, class_value_field, buffer_radius, in_mask_polygons, rotation_angle, reference_system, processing_mode, blacken_around_feature, crop_mode)\u001b[0m\n\u001b[0;32m   1980\u001b[0m         \u001b[0mprocessing_mode\u001b[0m\u001b[1;33m,\u001b[0m\u001b[1;33m\u001b[0m\u001b[1;33m\u001b[0m\u001b[0m\n\u001b[0;32m   1981\u001b[0m         \u001b[0mblacken_around_feature\u001b[0m\u001b[1;33m,\u001b[0m\u001b[1;33m\u001b[0m\u001b[1;33m\u001b[0m\u001b[0m\n\u001b[1;32m-> 1982\u001b[1;33m         crop_mode)\n\u001b[0m\u001b[0;32m   1983\u001b[0m \u001b[0mExportTrainingDataForDeepLearning\u001b[0m\u001b[1;33m.\u001b[0m\u001b[0m__esri_toolname__\u001b[0m \u001b[1;33m=\u001b[0m \u001b[1;34m\"ExportTrainingDataForDeepLearning_ia\"\u001b[0m\u001b[1;33m\u001b[0m\u001b[1;33m\u001b[0m\u001b[0m\n\u001b[0;32m   1984\u001b[0m ExportTrainingDataForDeepLearning.__esri_toolinfo__ = [\n",
      "\u001b[1;32mC:\\Program Files\\ArcGIS\\Pro\\Resources\\ArcPy\\arcpy\\sa\\Utils.py\u001b[0m in \u001b[0;36mswapper\u001b[1;34m(*args, **kwargs)\u001b[0m\n\u001b[0;32m     51\u001b[0m \u001b[1;33m\u001b[0m\u001b[0m\n\u001b[0;32m     52\u001b[0m             \u001b[1;32mtry\u001b[0m\u001b[1;33m:\u001b[0m\u001b[1;33m\u001b[0m\u001b[1;33m\u001b[0m\u001b[0m\n\u001b[1;32m---> 53\u001b[1;33m                 \u001b[0mresult\u001b[0m \u001b[1;33m=\u001b[0m \u001b[0mwrapper\u001b[0m\u001b[1;33m(\u001b[0m\u001b[1;33m*\u001b[0m\u001b[0margs\u001b[0m\u001b[1;33m,\u001b[0m \u001b[1;33m**\u001b[0m\u001b[0mkwargs\u001b[0m\u001b[1;33m)\u001b[0m\u001b[1;33m\u001b[0m\u001b[1;33m\u001b[0m\u001b[0m\n\u001b[0m\u001b[0;32m     54\u001b[0m             \u001b[1;32mfinally\u001b[0m\u001b[1;33m:\u001b[0m\u001b[1;33m\u001b[0m\u001b[1;33m\u001b[0m\u001b[0m\n\u001b[0;32m     55\u001b[0m                 \u001b[1;31m# Reset the geoprocessor state to the original setting.\u001b[0m\u001b[1;33m\u001b[0m\u001b[1;33m\u001b[0m\u001b[1;33m\u001b[0m\u001b[0m\n",
      "\u001b[1;32mC:\\Program Files\\ArcGIS\\Pro\\Resources\\ArcPy\\arcpy\\ia\\Functions.py\u001b[0m in \u001b[0;36mWrapper\u001b[1;34m(in_raster, out_folder, in_class_data, image_chip_format, tile_size_x, tile_size_y, stride_x, stride_y, output_nofeature_tiles, metadata_format, start_index, class_value_field, buffer_radius, in_mask_polygons, rotation_angle, reference_system, processing_mode, blacken_around_feature, crop_mode)\u001b[0m\n\u001b[0;32m   1959\u001b[0m             \u001b[0mprocessing_mode\u001b[0m\u001b[1;33m,\u001b[0m\u001b[1;33m\u001b[0m\u001b[1;33m\u001b[0m\u001b[0m\n\u001b[0;32m   1960\u001b[0m             \u001b[0mblacken_around_feature\u001b[0m\u001b[1;33m,\u001b[0m\u001b[1;33m\u001b[0m\u001b[1;33m\u001b[0m\u001b[0m\n\u001b[1;32m-> 1961\u001b[1;33m             crop_mode)\n\u001b[0m\u001b[0;32m   1962\u001b[0m         \u001b[1;32mreturn\u001b[0m \u001b[0mresult\u001b[0m\u001b[1;33m\u001b[0m\u001b[1;33m\u001b[0m\u001b[0m\n\u001b[0;32m   1963\u001b[0m     return Wrapper(\n",
      "\u001b[1;32mC:\\Program Files\\ArcGIS\\Pro\\Resources\\ArcPy\\arcpy\\geoprocessing\\_base.py\u001b[0m in \u001b[0;36m<lambda>\u001b[1;34m(*args)\u001b[0m\n\u001b[0;32m    509\u001b[0m         \u001b[0mval\u001b[0m \u001b[1;33m=\u001b[0m \u001b[0mgetattr\u001b[0m\u001b[1;33m(\u001b[0m\u001b[0mself\u001b[0m\u001b[1;33m.\u001b[0m\u001b[0m_gp\u001b[0m\u001b[1;33m,\u001b[0m \u001b[0mattr\u001b[0m\u001b[1;33m)\u001b[0m\u001b[1;33m\u001b[0m\u001b[1;33m\u001b[0m\u001b[0m\n\u001b[0;32m    510\u001b[0m         \u001b[1;32mif\u001b[0m \u001b[0mcallable\u001b[0m\u001b[1;33m(\u001b[0m\u001b[0mval\u001b[0m\u001b[1;33m)\u001b[0m\u001b[1;33m:\u001b[0m\u001b[1;33m\u001b[0m\u001b[1;33m\u001b[0m\u001b[0m\n\u001b[1;32m--> 511\u001b[1;33m             \u001b[1;32mreturn\u001b[0m \u001b[1;32mlambda\u001b[0m \u001b[1;33m*\u001b[0m\u001b[0margs\u001b[0m\u001b[1;33m:\u001b[0m \u001b[0mval\u001b[0m\u001b[1;33m(\u001b[0m\u001b[1;33m*\u001b[0m\u001b[0mgp_fixargs\u001b[0m\u001b[1;33m(\u001b[0m\u001b[0margs\u001b[0m\u001b[1;33m,\u001b[0m \u001b[1;32mTrue\u001b[0m\u001b[1;33m)\u001b[0m\u001b[1;33m)\u001b[0m\u001b[1;33m\u001b[0m\u001b[1;33m\u001b[0m\u001b[0m\n\u001b[0m\u001b[0;32m    512\u001b[0m         \u001b[1;32melse\u001b[0m\u001b[1;33m:\u001b[0m\u001b[1;33m\u001b[0m\u001b[1;33m\u001b[0m\u001b[0m\n\u001b[0;32m    513\u001b[0m             \u001b[1;32mreturn\u001b[0m \u001b[0mconvertArcObjectToPythonObject\u001b[0m\u001b[1;33m(\u001b[0m\u001b[0mval\u001b[0m\u001b[1;33m)\u001b[0m\u001b[1;33m\u001b[0m\u001b[1;33m\u001b[0m\u001b[0m\n",
      "\u001b[1;31mExecuteError\u001b[0m: Failed to execute. Parameters are not valid.\nERROR 000725: Output Folder: Dataset D:\\ArcGIS Projects\\Dataset\\OutputFolder22334455 already exists.\nERROR 000158: Invalid feature class\nFailed to execute (ExportTrainingDataForDeepLearning).\n"
     ]
    }
   ],
   "source": [
    "raster_dataset = \"D:/ArcGIS Projects/Dataset/SunflowerCropImagery.tif\"\n",
    "output = \"D:/ArcGIS Projects/Dataset/OutputFolder2233445566\"\n",
    "training_samples = \"D:/ArcGIS Projects/Dataset/CropClassification.shp\"\n",
    "chip_format = \"TIFF\"\n",
    "tile_sizeX = \"448\"\n",
    "tile_sizeY = \"448\"\n",
    "stride_sizeX = \"224\"\n",
    "stride_sizeY = \"224\"\n",
    "nofeature_tiles = \"ONLY_TILES_WITH_FEATURES\"\n",
    "metadeta_format = \"PASCAL_VOC_rectangles\"\n",
    "start_index = 0\n",
    "classvalue_field = \"Classvalue\"\n",
    "buffer_radius = 0\n",
    "input_mask_polygons = \"\"\n",
    "rotation_angle = 10\n",
    "reference_system = \"MAP_SPACE\"\n",
    "processing = \"PROCESS_ITEMS_SEPARATELY\"\n",
    "blacken = \"NO_BLACKEN\"\n",
    "crop_mode = \"FIXED_SIZE\"\n",
    "ExportTrainingDataForDeepLearning(raster_dataset, output, training_samples,\n",
    "                                               chip_format, tile_sizeX, tile_sizeY, stride_sizeX,\n",
    "                                               stride_sizeY, nofeature_tiles, metadeta_format, start_index, \n",
    "                                               classvalue_field, buffer_radius, \n",
    "                                               input_mask_polygons, rotation_angle, reference_system,\n",
    "                                               processing, blacken, crop_mode)"
   ]
  },
  {
   "cell_type": "code",
   "execution_count": null,
   "metadata": {},
   "outputs": [],
   "source": []
  },
  {
   "cell_type": "code",
   "execution_count": 12,
   "metadata": {},
   "outputs": [],
   "source": [
    "# # Data Preparation\n",
    "# dataset_path = r\"C:\\Users\\Nitin.Rai\\Desktop\\ImageChipsPASCAL\"\n",
    "# class_mapping = None\n",
    "# chip_size = 448\n",
    "# val_split = 0.3\n",
    "# batch_size = 64\n",
    "# transform = False\n",
    "# dataset_type = 'PASCAL_VOC_rectangles'\n",
    "# prepare = prepare_data(dataset_path, class_mapping, chip_size, val_split, batch_size, transform,\n",
    "#                                         dataset_type)"
   ]
  },
  {
   "cell_type": "code",
   "execution_count": 13,
   "metadata": {},
   "outputs": [],
   "source": [
    "# from arcgis.learn import SingleShotDetector\n",
    "# ssd = SingleShotDetector(prepare, grids=[9], zooms=[1.0], ratios=[[1.0, 1.0]])"
   ]
  },
  {
   "cell_type": "code",
   "execution_count": 14,
   "metadata": {},
   "outputs": [],
   "source": [
    "# ssd.lr_find()"
   ]
  },
  {
   "cell_type": "code",
   "execution_count": 13,
   "metadata": {},
   "outputs": [],
   "source": [
    "# ssd.recorder.plot()"
   ]
  },
  {
   "cell_type": "code",
   "execution_count": 15,
   "metadata": {},
   "outputs": [],
   "source": [
    "# ssd.fit(10, lr=0.001)"
   ]
  },
  {
   "cell_type": "code",
   "execution_count": 27,
   "metadata": {},
   "outputs": [],
   "source": [
    "# #  Exporting using arcgis.learn\n",
    "# input_imagery = \"E:\\\\ASABE2021\\\\Dataset\\\\SunflowerCropImagery.tif\"\n",
    "# input_class_data = \"E:\\\\ASABE2021\\\\Dataset\\\\CropClassification.shp\"\n",
    "# chip_format = \"TIFF\"\n",
    "# tile_size = {\"x\":448, \"y\":448}\n",
    "# stride_size = {\"x\":224, \"y\":224}\n",
    "# metadata_format = \"PASCAL_VOC_rectangles\"\n",
    "# #classvalue_field = \"\"\n",
    "# #buffer_radius = 0\n",
    "# output_location = \"E:\\\\ASABE2021\\\\ImageChips\"\n",
    "# #context = {\"exportAllTiles\": False, \"startIndex\":1}\n",
    "# #input_mask_polygons = None\n",
    "# #rotation_angle = 15\n",
    "# #reference_system = \"MAP_SPACE\"\n",
    "# #process_all_raster_items = True\n",
    "# #blacken_around_feature = False\n",
    "# #fix_chip_size = True\n",
    "# chips = export_training_data(input_imagery, input_class_data, \n",
    "#                      chip_format, tile_size, stride_size, metadata_format,\n",
    "#                      output_location)"
   ]
  },
  {
   "cell_type": "code",
   "execution_count": null,
   "metadata": {},
   "outputs": [],
   "source": []
  }
 ],
 "metadata": {
  "kernelspec": {
   "display_name": "Python 3",
   "language": "python",
   "name": "python3"
  },
  "language_info": {
   "codemirror_mode": {
    "name": "ipython",
    "version": 3
   },
   "file_extension": ".py",
   "mimetype": "text/x-python",
   "name": "python",
   "nbconvert_exporter": "python",
   "pygments_lexer": "ipython3",
   "version": "3.7.9"
  }
 },
 "nbformat": 4,
 "nbformat_minor": 4
}
